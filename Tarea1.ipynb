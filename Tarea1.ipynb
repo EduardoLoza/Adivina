{
 "cells": [
  {
   "cell_type": "code",
   "execution_count": 2,
   "metadata": {},
   "outputs": [
    {
     "name": "stdout",
     "output_type": "stream",
     "text": [
      "Adivina el número del 1 al 10: 4\n",
      "Incorrecto, suerte la próxima\n",
      "\n",
      "Adivina el número del 1 al 10: 1\n",
      "Correcto\n",
      "Fin del juego 1\n"
     ]
    }
   ],
   "source": [
    "i=1\n",
    "import random as ran\n",
    "num_adivinar = ran.randint(1,10)\n",
    "while i <= 3:\n",
    "    num = int(input (\"Adivina el número del 1 al 10: \"))\n",
    "    if num == num_adivinar:\n",
    "        print(\"Correcto\")\n",
    "        break\n",
    "    else:\n",
    "        print(\"Incorrecto, suerte la próxima\\n\")\n",
    "    i+=1\n",
    "\n",
    "print(\"Fin del juego\", num_adivinar)"
   ]
  },
  {
   "cell_type": "code",
   "execution_count": 3,
   "metadata": {},
   "outputs": [
    {
     "data": {
      "text/plain": [
       "'C:\\\\Users\\\\Dell\\\\SimMate'"
      ]
     },
     "execution_count": 3,
     "metadata": {},
     "output_type": "execute_result"
    }
   ],
   "source": [
    "pwd"
   ]
  },
  {
   "cell_type": "code",
   "execution_count": null,
   "metadata": {
    "collapsed": true
   },
   "outputs": [],
   "source": []
  }
 ],
 "metadata": {
  "kernelspec": {
   "display_name": "Python 3",
   "language": "python",
   "name": "python3"
  },
  "language_info": {
   "codemirror_mode": {
    "name": "ipython",
    "version": 3
   },
   "file_extension": ".py",
   "mimetype": "text/x-python",
   "name": "python",
   "nbconvert_exporter": "python",
   "pygments_lexer": "ipython3",
   "version": "3.6.1"
  }
 },
 "nbformat": 4,
 "nbformat_minor": 2
}
