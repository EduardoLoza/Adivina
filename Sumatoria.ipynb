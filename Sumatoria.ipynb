{
 "cells": [
  {
   "cell_type": "code",
   "execution_count": 19,
   "metadata": {},
   "outputs": [
    {
     "name": "stdout",
     "output_type": "stream",
     "text": [
      "Primer número de la sumatoria: \n",
      "3\n",
      "Último número de la sumatoria: \n",
      "5\n",
      "12\n"
     ]
    }
   ],
   "source": [
    "print(\"Primer número de la sumatoria: \")\n",
    "n=input ()\n",
    "n=int(n)\n",
    "print(\"Último número de la sumatoria: \")\n",
    "m=input()\n",
    "m=int(m)\n",
    "s=0\n",
    "for i in range (n,m):\n",
    "    s=s+i\n",
    "print (s+m)    "
   ]
  },
  {
   "cell_type": "code",
   "execution_count": null,
   "metadata": {
    "collapsed": true
   },
   "outputs": [],
   "source": []
  },
  {
   "cell_type": "code",
   "execution_count": null,
   "metadata": {
    "collapsed": true
   },
   "outputs": [],
   "source": []
  }
 ],
 "metadata": {
  "kernelspec": {
   "display_name": "Python 3",
   "language": "python",
   "name": "python3"
  },
  "language_info": {
   "codemirror_mode": {
    "name": "ipython",
    "version": 3
   },
   "file_extension": ".py",
   "mimetype": "text/x-python",
   "name": "python",
   "nbconvert_exporter": "python",
   "pygments_lexer": "ipython3",
   "version": "3.6.1"
  }
 },
 "nbformat": 4,
 "nbformat_minor": 2
}
