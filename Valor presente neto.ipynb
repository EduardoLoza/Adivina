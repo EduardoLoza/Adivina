{
 "cells": [
  {
   "cell_type": "code",
   "execution_count": null,
   "metadata": {
    "collapsed": true
   },
   "outputs": [],
   "source": [
    "%matplotlib inline\n",
    "import numpy as np\n",
    "import matplotlib.pyplot as plt"
   ]
  },
  {
   "cell_type": "markdown",
   "metadata": {},
   "source": [
    "VALOR PRESENTE NETO\n",
    "\n",
    "$$VPN = \\sum_{t= 1}^n\\frac{Vt}{(1+r)^t} - I_{0}$$\n",
    "\n",
    "Michel quiere invertir 100,000 en una empresa de zapatos que le dan cada año una rentabilidad en un total de cinco años: El primer año de 25,000, el segundo año de 40,000, eltercer año de 30,000, el cuarto año de 15,000 y el quinto año de 50,000 pesos. ¿La inversión es rentable para michel?\n"
   ]
  },
  {
   "cell_type": "code",
   "execution_count": null,
   "metadata": {
    "collapsed": true
   },
   "outputs": [],
   "source": [
    "\n",
    "# Graficando el VPN en función de la tasa de descuento\n",
    "def vpn_tir(t):\n",
    "    result = []\n",
    "    for i in t:\n",
    "        result.append(np.npv(i/100,[-100000, 25000, 40000, 30000, 15000,50000] ))\n",
    "    return result\n",
    "\n",
    "t = list(range(13))\n",
    "\n",
    "\n",
    "plt.title(\"VPN y SU tasa de descuento\")\n",
    "plt.plot(t, vpn_tir(t), marker='o', label='NPV')\n",
    "plt.axhline(0, color='red')\n",
    "axes = plt.gca()\n",
    "axes.set_ylim([-100000,100000])\n",
    "plt.xticks(tasas)\n",
    "plt.legend(loc='upper right')\n",
    "plt.show()\n"
   ]
  },
  {
   "cell_type": "code",
   "execution_count": null,
   "metadata": {
    "collapsed": true
   },
   "outputs": [],
   "source": []
  },
  {
   "cell_type": "code",
   "execution_count": null,
   "metadata": {},
   "outputs": [],
   "source": []
  },
  {
   "cell_type": "code",
   "execution_count": null,
   "metadata": {
    "collapsed": true
   },
   "outputs": [],
   "source": []
  },
  {
   "cell_type": "code",
   "execution_count": null,
   "metadata": {},
   "outputs": [],
   "source": []
  },
  {
   "cell_type": "code",
   "execution_count": null,
   "metadata": {
    "collapsed": true
   },
   "outputs": [],
   "source": []
  }
 ],
 "metadata": {
  "kernelspec": {
   "display_name": "Python 3",
   "language": "python",
   "name": "python3"
  },
  "language_info": {
   "codemirror_mode": {
    "name": "ipython",
    "version": 3
   },
   "file_extension": ".py",
   "mimetype": "text/x-python",
   "name": "python",
   "nbconvert_exporter": "python",
   "pygments_lexer": "ipython3",
   "version": "3.6.1"
  }
 },
 "nbformat": 4,
 "nbformat_minor": 2
}
