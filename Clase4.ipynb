{
 "cells": [
  {
   "cell_type": "code",
   "execution_count": 13,
   "metadata": {},
   "outputs": [],
   "source": [
    "%matplotlib inline"
   ]
  },
  {
   "cell_type": "markdown",
   "metadata": {},
   "source": [
    "$x(t)= A \\cos(\\omega_0t) + B \\sin(\\omega_0t)$"
   ]
  },
  {
   "cell_type": "markdown",
   "metadata": {},
   "source": [
    "$\\dot{x}(t) = \\omega_0[ -A \\sin(\\omega_0t) + B \\cos(\\omega_0t)]$"
   ]
  },
  {
   "cell_type": "markdown",
   "metadata": {},
   "source": [
    "$$x_i=\\sqrt[n]{\\frac{a_i}{b_i}}$$"
   ]
  },
  {
   "cell_type": "markdown",
   "metadata": {},
   "source": [
    "$$\\begin{matrix}A\\xrightarrow{\\;\\;\\;f\\;\\;\\;}B\\\\\n",
    "\\pi\\downarrow{\\;\\;\\;\\;\\;}\\;\\;\\;\\uparrow{} \\phi\\\\\n",
    "C\\xrightarrow{\\;\\;\\;g\\;\\;\\;}D\\end{matrix}$$"
   ]
  },
  {
   "cell_type": "code",
   "execution_count": 14,
   "metadata": {
    "collapsed": true
   },
   "outputs": [],
   "source": [
    "import matplotlib.pyplot as plt\n",
    "import numpy as np"
   ]
  },
  {
   "cell_type": "code",
   "execution_count": 15,
   "metadata": {},
   "outputs": [
    {
     "data": {
      "text/plain": [
       "[<matplotlib.lines.Line2D at 0x77ef230>]"
      ]
     },
     "execution_count": 15,
     "metadata": {},
     "output_type": "execute_result"
    },
    {
     "data": {
      "image/png": "[encoded data removed]",
      "text/plain": [
       "<matplotlib.figure.Figure at 0x779fcd0>"
      ]
     },
     "metadata": {},
     "output_type": "display_data"
    }
   ],
   "source": [
    "x= np.arange(0,10,1)\n",
    "y=x**2;\n",
    "plt.plot(x,y)"
   ]
  },
  {
   "cell_type": "code",
   "execution_count": 17,
   "metadata": {
    "collapsed": true
   },
   "outputs": [],
   "source": [
    "import matplotlib as mpl\n",
    "label_size = 14\n",
    "mpl.rcParams['xtick.labelsize'] = label_size\n",
    "mpl.rcParams['ytick.labelsize'] = label_size"
   ]
  },
  {
   "cell_type": "code",
   "execution_count": 18,
   "metadata": {
    "collapsed": true
   },
   "outputs": [],
   "source": [
    "import numpy as np"
   ]
  },
  {
   "cell_type": "markdown",
   "metadata": {},
   "source": [
    "$x(t)= A \\cos(\\omega_0t) + B \\sin(\\omega_0t)$"
   ]
  },
  {
   "cell_type": "markdown",
   "metadata": {},
   "source": [
    "$\\dot{x}(t) = \\omega_0[ -A \\sin(\\omega_0t) + B \\cos(\\omega_0t)]$"
   ]
  },
  {
   "cell_type": "code",
   "execution_count": 32,
   "metadata": {
    "scrolled": true
   },
   "outputs": [
    {
     "data": {
      "image/png": "[encoded data removed]",
      "text/plain": [
       "<matplotlib.figure.Figure at 0x7830170>"
      ]
     },
     "metadata": {},
     "output_type": "display_data"
    }
   ],
   "source": [
    "A=10\n",
    "w=.1\n",
    "B=0.1\n",
    "t=np.linspace(0,50,100)\n",
    "plt.figure(figsize = (7,4))\n",
    "plt.plot(t, A*np.cos(w*t) + B*np.sin(w*t), '-', lw = 1, ms = 4, label = '$x(t)$')\n",
    "plt.plot(t, B*w*np.cos(w*t) - A*w*np.sin(w*t), 'go-', lw = 1, ms = 4, label = r'$\\dot{x}(t)$')\n",
    "plt.xlabel('$t$', fontsize = 20)\n",
    "plt.legend(loc='best')\n",
    "plt.show()"
   ]
  },
  {
   "cell_type": "code",
   "execution_count": null,
   "metadata": {
    "collapsed": true
   },
   "outputs": [],
   "source": [
    "frecuencias = np.arange(.1,.2,.5,.6)\n",
    "plt.figure()"
   ]
  }
 ],
 "metadata": {
  "kernelspec": {
   "display_name": "Python 3",
   "language": "python",
   "name": "python3"
  },
  "language_info": {
   "codemirror_mode": {
    "name": "ipython",
    "version": 3
   },
   "file_extension": ".py",
   "mimetype": "text/x-python",
   "name": "python",
   "nbconvert_exporter": "python",
   "pygments_lexer": "ipython3",
   "version": "3.6.1"
  }
 },
 "nbformat": 4,
 "nbformat_minor": 2
}
